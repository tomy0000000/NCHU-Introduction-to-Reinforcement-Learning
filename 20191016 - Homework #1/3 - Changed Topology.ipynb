{
 "cells": [
  {
   "cell_type": "markdown",
   "metadata": {},
   "source": [
    "# Policy Evaluation - Changed Topology\n",
    "> find V(s) for every s"
   ]
  },
  {
   "cell_type": "markdown",
   "metadata": {},
   "source": [
    "## Step 1: Imports"
   ]
  },
  {
   "cell_type": "code",
   "execution_count": 1,
   "metadata": {},
   "outputs": [],
   "source": [
    "import random\n",
    "from grid_world import Grid"
   ]
  },
  {
   "cell_type": "code",
   "execution_count": 2,
   "metadata": {
    "code_folding": [
     1,
     6,
     17
    ]
   },
   "outputs": [],
   "source": [
    "# I have my own implementation differents from src\n",
    "def generate_random_action(g):\n",
    "    A = {}\n",
    "    for state, actions in g.actions.items():\n",
    "        A[state] = random.choice(actions)\n",
    "    return A\n",
    "def print_policy(P, g):\n",
    "    print(\"=\"*(g.width*16+1))\n",
    "    for i in range(g.height):\n",
    "        print(\"|\", end=\"\")\n",
    "        for j in range(g.width):\n",
    "            p = P.get((i,j), ' ')\n",
    "            print(\"{:^15}|\".format(p), end=\"\")\n",
    "        print()\n",
    "        if i < g.height-1:\n",
    "            print(\"-\"*(g.width*16+1))\n",
    "    print(\"=\"*(g.width*16+1))\n",
    "def print_results(V, P, g):\n",
    "    print(\"=\"*(g.width*16+1))\n",
    "    for i in range(g.height):\n",
    "        print(\"|\", end=\"\")\n",
    "        for j in range(g.width):\n",
    "            v = V.get((i, j), 0)\n",
    "            p = P.get((i, j), \" \")\n",
    "            p = \"T\" if (i, j) in g.rewards else \"X\" if (i, j) not in g.actions else p\n",
    "            print(\"{:^15}|\".format(\"{} ({})\".format(v, p)), end=\"\")\n",
    "        print()\n",
    "        if i < g.height-1:\n",
    "            print(\"-\"*(g.width*16+1))\n",
    "    print(\"=\"*(g.width*16+1))"
   ]
  },
  {
   "cell_type": "markdown",
   "metadata": {},
   "source": [
    "## Step 2: initialization\n",
    "* Grid\n",
    "* V\n",
    "* gamma (discount factor)\n",
    "* threshold (used to evalute delta V max)\n",
    "* policy (manually assign)"
   ]
  },
  {
   "cell_type": "code",
   "execution_count": 3,
   "metadata": {
    "code_folding": [
     1,
     4,
     60
    ],
    "scrolled": true
   },
   "outputs": [
    {
     "name": "stdout",
     "output_type": "stream",
     "text": [
      "=================================================================================================\n",
      "|       R       |       R       |       R       |       R       |       D       |               |\n",
      "-------------------------------------------------------------------------------------------------\n",
      "|       U       |       D       |       D       |               |               |               |\n",
      "-------------------------------------------------------------------------------------------------\n",
      "|       U       |       D       |       D       |               |               |               |\n",
      "-------------------------------------------------------------------------------------------------\n",
      "|       U       |       R       |       R       |       R       |               |               |\n",
      "-------------------------------------------------------------------------------------------------\n",
      "|       U       |       U       |       U       |               |               |               |\n",
      "-------------------------------------------------------------------------------------------------\n",
      "|       U       |       U       |       U       |       L       |       L       |       L       |\n",
      "-------------------------------------------------------------------------------------------------\n",
      "|       U       |       U       |       U       |       L       |       L       |       L       |\n",
      "-------------------------------------------------------------------------------------------------\n",
      "|       U       |       U       |       U       |       L       |       L       |       L       |\n",
      "=================================================================================================\n"
     ]
    }
   ],
   "source": [
    "# Grid\n",
    "rewards = {\n",
    "    (1, 4): 1,\n",
    "    (3, 4): -1 }\n",
    "actions = {\n",
    "    (0, 0): ('D', 'R'),\n",
    "    (0, 1): ('D', 'R', 'L'),\n",
    "    (0, 2): ('D', 'R', 'L'),\n",
    "    (0, 3): ('D', 'R', 'L'),\n",
    "    (0, 4): ('D', 'R', 'L'),\n",
    "#     (0, 5): ('D', 'L'),\n",
    "    (1, 0): ('U', 'D', 'R'),\n",
    "    (1, 1): ('U', 'D', 'R', 'L'),\n",
    "    (1, 2): ('U', 'D', 'R', 'L'),\n",
    "#     (1, 3): ('U', 'D', 'R', 'L'),\n",
    "#     (1, 4): ('U', 'D', 'R', 'L'),\n",
    "#     (1, 5): ('U', 'D', 'L'),\n",
    "    (2, 0): ('U', 'D', 'R'),\n",
    "    (2, 1): ('U', 'D', 'R', 'L'),\n",
    "    (2, 2): ('U', 'D', 'R', 'L'),\n",
    "#     (2, 3): ('U', 'D', 'R', 'L'),\n",
    "#     (2, 4): ('U', 'D', 'R', 'L'),\n",
    "#     (2, 5): ('U', 'D', 'L'),\n",
    "    (3, 0): ('U', 'D', 'R'),\n",
    "    (3, 1): ('U', 'D', 'R', 'L'),\n",
    "    (3, 2): ('U', 'D', 'R', 'L'),\n",
    "    (3, 3): ('U', 'D', 'R', 'L'),\n",
    "#     (3, 4): ('U', 'D', 'R', 'L'),\n",
    "#     (3, 5): ('U', 'D', 'L'),\n",
    "    (4, 0): ('U', 'D', 'R'),\n",
    "    (4, 1): ('U', 'D', 'R', 'L'),\n",
    "    (4, 2): ('U', 'D', 'R', 'L'),\n",
    "#     (4, 3): ('U', 'D', 'R', 'L'),\n",
    "#     (4, 4): ('U', 'D', 'R', 'L'),\n",
    "#     (4, 5): ('U', 'D', 'L'),\n",
    "    (5, 0): ('U', 'D', 'R'),\n",
    "    (5, 1): ('U', 'D', 'R', 'L'),\n",
    "    (5, 2): ('U', 'D', 'R', 'L'),\n",
    "    (5, 3): ('U', 'D', 'R', 'L'),\n",
    "    (5, 4): ('U', 'D', 'R', 'L'),\n",
    "    (5, 5): ('U', 'D', 'L'),\n",
    "    (6, 0): ('U', 'D', 'R'),\n",
    "    (6, 1): ('U', 'D', 'R', 'L'),\n",
    "    (6, 2): ('U', 'D', 'R', 'L'),\n",
    "    (6, 3): ('U', 'D', 'R', 'L'),\n",
    "    (6, 4): ('U', 'D', 'R', 'L'),\n",
    "    (6, 5): ('U', 'D', 'L'),\n",
    "    (7, 0): ('U', 'R'),\n",
    "    (7, 1): ('U', 'R', 'L'),\n",
    "    (7, 2): ('U', 'R', 'L'),\n",
    "    (7, 3): ('U', 'R', 'L'),\n",
    "    (7, 4): ('U', 'R', 'L'),\n",
    "    (7, 5): ('U', 'L') }\n",
    "grid = Grid(6, 8, (7, 0))\n",
    "grid.set(rewards, actions)\n",
    "\n",
    "# V, gamma, threshold, policy\n",
    "V = {s: 0 for s in grid.all_states()}\n",
    "gamma = 1.0\n",
    "SMALL_ENOUGH = 1e-3\n",
    "policy = { # Manually assigned fixed policy\n",
    "    (0, 0): ('R'),\n",
    "    (0, 1): ('R'),\n",
    "    (0, 2): ('R'),\n",
    "    (0, 3): ('R'),\n",
    "    (0, 4): ('D'),\n",
    "#     (0, 5): (''),\n",
    "    (1, 0): ('U'),\n",
    "    (1, 1): ('D'),\n",
    "    (1, 2): ('D'),\n",
    "#     (1, 3): (''),\n",
    "#     (1, 4): (''),\n",
    "#     (1, 5): (''),\n",
    "    (2, 0): ('U'),\n",
    "    (2, 1): ('D'),\n",
    "    (2, 2): ('D'),\n",
    "#     (2, 3): (''),\n",
    "#     (2, 4): (''),\n",
    "#     (2, 5): (''),\n",
    "    (3, 0): ('U'),\n",
    "    (3, 1): ('R'),\n",
    "    (3, 2): ('R'),\n",
    "    (3, 3): ('R'),\n",
    "#     (3, 4): (''),\n",
    "#     (3, 5): (''),\n",
    "    (4, 0): ('U'),\n",
    "    (4, 1): ('U'),\n",
    "    (4, 2): ('U'),\n",
    "#     (4, 3): (''),\n",
    "#     (4, 4): (''),\n",
    "#     (4, 5): (''),\n",
    "    (5, 0): ('U'),\n",
    "    (5, 1): ('U'),\n",
    "    (5, 2): ('U'),\n",
    "    (5, 3): ('L'),\n",
    "    (5, 4): ('L'),\n",
    "    (5, 5): ('L'),\n",
    "    (6, 0): ('U'),\n",
    "    (6, 1): ('U'),\n",
    "    (6, 2): ('U'),\n",
    "    (6, 3): ('L'),\n",
    "    (6, 4): ('L'),\n",
    "    (6, 5): ('L'),\n",
    "    (7, 0): ('U'),\n",
    "    (7, 1): ('U'),\n",
    "    (7, 2): ('U'),\n",
    "    (7, 3): ('L'),\n",
    "    (7, 4): ('L'),\n",
    "    (7, 5): ('L') }\n",
    "\n",
    "# Print Policy\n",
    "print_policy(policy, grid)"
   ]
  },
  {
   "cell_type": "markdown",
   "metadata": {},
   "source": [
    "## Step 3: Main Function"
   ]
  },
  {
   "cell_type": "code",
   "execution_count": 4,
   "metadata": {
    "scrolled": true
   },
   "outputs": [],
   "source": [
    "while True:\n",
    "    biggest_change = 0 # delta V max\n",
    "    for s in grid.all_states():\n",
    "        old_v = V[s]\n",
    "        if s in policy:\n",
    "            a = policy[s]\n",
    "            grid.set_state(s)\n",
    "            reward = grid.move(a)\n",
    "            new_v = (reward + gamma * V[grid.current_state()])\n",
    "            V[s] = new_v\n",
    "#             print(\"{} update to : reward({}) + r({}) * current_state({}) = {}\".format(s, reward, gamma, V[grid.current_state()], new_v))\n",
    "            biggest_change = max(biggest_change, abs(old_v - new_v))\n",
    "#     print(\"Biggest Change: {}\".format(biggest_change))\n",
    "#     print_values(V, grid)\n",
    "    if biggest_change < SMALL_ENOUGH:\n",
    "        break"
   ]
  },
  {
   "cell_type": "markdown",
   "metadata": {},
   "source": [
    "## Step 4: Show Result"
   ]
  },
  {
   "cell_type": "code",
   "execution_count": 5,
   "metadata": {
    "scrolled": false
   },
   "outputs": [
    {
     "name": "stdout",
     "output_type": "stream",
     "text": [
      "=================================================================================================\n",
      "|    1.0 (R)    |    1.0 (R)    |    1.0 (R)    |    1.0 (R)    |    1.0 (D)    |     0 (X)     |\n",
      "-------------------------------------------------------------------------------------------------\n",
      "|    1.0 (U)    |   -1.0 (D)    |   -1.0 (D)    |     0 (X)     |     0 (T)     |     0 (X)     |\n",
      "-------------------------------------------------------------------------------------------------\n",
      "|    1.0 (U)    |   -1.0 (D)    |   -1.0 (D)    |     0 (X)     |     0 (X)     |     0 (X)     |\n",
      "-------------------------------------------------------------------------------------------------\n",
      "|    1.0 (U)    |   -1.0 (R)    |   -1.0 (R)    |   -1.0 (R)    |     0 (T)     |     0 (X)     |\n",
      "-------------------------------------------------------------------------------------------------\n",
      "|    1.0 (U)    |   -1.0 (U)    |   -1.0 (U)    |     0 (X)     |     0 (X)     |     0 (X)     |\n",
      "-------------------------------------------------------------------------------------------------\n",
      "|    1.0 (U)    |   -1.0 (U)    |   -1.0 (U)    |   -1.0 (L)    |   -1.0 (L)    |   -1.0 (L)    |\n",
      "-------------------------------------------------------------------------------------------------\n",
      "|    1.0 (U)    |   -1.0 (U)    |   -1.0 (U)    |   -1.0 (L)    |   -1.0 (L)    |   -1.0 (L)    |\n",
      "-------------------------------------------------------------------------------------------------\n",
      "|    1.0 (U)    |   -1.0 (U)    |   -1.0 (U)    |   -1.0 (L)    |   -1.0 (L)    |   -1.0 (L)    |\n",
      "=================================================================================================\n"
     ]
    }
   ],
   "source": [
    "print_results(V, policy, grid)"
   ]
  }
 ],
 "metadata": {
  "kernelspec": {
   "display_name": "Python 3",
   "language": "python",
   "name": "python3"
  },
  "language_info": {
   "codemirror_mode": {
    "name": "ipython",
    "version": 3
   },
   "file_extension": ".py",
   "mimetype": "text/x-python",
   "name": "python",
   "nbconvert_exporter": "python",
   "pygments_lexer": "ipython3",
   "version": "3.7.3"
  }
 },
 "nbformat": 4,
 "nbformat_minor": 2
}
