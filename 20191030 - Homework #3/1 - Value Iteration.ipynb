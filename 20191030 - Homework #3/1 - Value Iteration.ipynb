{
 "cells": [
  {
   "cell_type": "markdown",
   "metadata": {},
   "source": [
    "# Value Iteration\n",
    "> Find policy that performs well in grid_world"
   ]
  },
  {
   "cell_type": "markdown",
   "metadata": {},
   "source": [
    "## Step 1: Imports"
   ]
  },
  {
   "cell_type": "code",
   "execution_count": 1,
   "metadata": {},
   "outputs": [],
   "source": [
    "from grid_world import Grid"
   ]
  },
  {
   "cell_type": "code",
   "execution_count": 2,
   "metadata": {
    "code_folding": [
     1,
     12,
     23
    ]
   },
   "outputs": [],
   "source": [
    "# I have my own implementation differents from src\n",
    "def print_grid(g):\n",
    "    print(\"=\"*(g.width*16+1))\n",
    "    for i in range(g.height):\n",
    "        print(\"|\", end=\"\")\n",
    "        for j in range(g.width):\n",
    "            p = \", \".join(g.actions.get((i,j), \" \"))\n",
    "            print(\"{:^15}|\".format(p), end=\"\")\n",
    "        print()\n",
    "        if i < g.height-1:\n",
    "            print(\"-\"*(g.width*16+1))\n",
    "    print(\"=\"*(g.width*16+1))\n",
    "def print_results(V, P, g):\n",
    "    print(\"=\"*(g.width*16+1))\n",
    "    for i in range(g.height):\n",
    "        print(\"|\", end=\"\")\n",
    "        for j in range(g.width):\n",
    "            if not g.actions[(i, j)] and (i, j) not in g.rewards:\n",
    "                print(\"{:^15}|\".format(\"(X)\"), end=\"\")\n",
    "            else:\n",
    "                v = g.rewards[(i, j)] if (i, j) in g.rewards else V.get((i, j), 0)\n",
    "                p = P.get((i, j), \" \")\n",
    "                p = \"T\" if (i, j) in g.rewards else p\n",
    "                print(\"{:^15}|\".format(\"{:1.2f} ({})\".format(v, p)), end=\"\")\n",
    "        print()\n",
    "        if i < g.height-1:\n",
    "            print(\"-\"*(g.width*16+1))\n",
    "    print(\"=\"*(g.width*16+1))"
   ]
  },
  {
   "cell_type": "markdown",
   "metadata": {},
   "source": [
    "## Step 2: initialization"
   ]
  },
  {
   "cell_type": "code",
   "execution_count": 3,
   "metadata": {
    "code_folding": [
     1,
     4
    ]
   },
   "outputs": [
    {
     "name": "stdout",
     "output_type": "stream",
     "text": [
      "=================================================================\n",
      "|     D, R      |     R, L      |    R, L, D    |               |\n",
      "-----------------------------------------------------------------\n",
      "|     U, D      |               |    U, D, R    |               |\n",
      "-----------------------------------------------------------------\n",
      "|     U, R      |     R, L      |    U, R, L    |     U, L      |\n",
      "=================================================================\n"
     ]
    }
   ],
   "source": [
    "# Grid\n",
    "rewards = {\n",
    "    (0, 3): 1,\n",
    "    (1, 3): -1 }\n",
    "actions = {\n",
    "    (0, 0): ('D', 'R'),\n",
    "    (0, 1): ('R', 'L'),\n",
    "    (0, 2): ('R', 'L', 'D'),\n",
    "    (0, 3): (),\n",
    "    (1, 0): ('U', 'D'),\n",
    "    (1, 1): (),\n",
    "    (1, 2): ('U', 'D', 'R'),\n",
    "    (1, 3): (),\n",
    "    (2, 0): ('U', 'R'),\n",
    "    (2, 1): ('R', 'L'),\n",
    "    (2, 2): ('U', 'R', 'L'),\n",
    "    (2, 3): ('U', 'L') }\n",
    "grid = Grid(4, 3, (2, 0))\n",
    "grid.set(rewards, actions)\n",
    "print_grid(grid)\n",
    "\n",
    "# V, gamma, threshold\n",
    "V = {s: 0 for s in grid.all_states()}\n",
    "gamma = 0.9\n",
    "SMALL_ENOUGH = 1e-3"
   ]
  },
  {
   "cell_type": "markdown",
   "metadata": {},
   "source": [
    "## Step 3: Main Function"
   ]
  },
  {
   "cell_type": "code",
   "execution_count": 4,
   "metadata": {
    "code_folding": [
     0
    ]
   },
   "outputs": [],
   "source": [
    "def policy_improvment(g, V):\n",
    "    action_value_functions = {}\n",
    "    for s in grid.all_states():\n",
    "        action_value_functions[s] = {}\n",
    "        for a in grid.actions[s]:\n",
    "            grid.set_state(s)\n",
    "            reward = grid.move(a)\n",
    "            action_value_functions[s][a] = (reward + gamma * V[grid.current_state()])\n",
    "    policy = {}\n",
    "    for s in grid.all_states():\n",
    "        if action_value_functions[s]:\n",
    "            policy[s] = max(action_value_functions[s], key=action_value_functions[s].get)\n",
    "    return policy\n",
    "while True:\n",
    "    biggest_change = 0\n",
    "    for s in grid.all_states():\n",
    "        old_v = V[s]\n",
    "        action_values = {}\n",
    "        for a in grid.actions[s]:\n",
    "            grid.set_state(s)\n",
    "            reward = grid.move(a)\n",
    "            new_v = (reward + gamma * V[grid.current_state()])\n",
    "            action_values[a] = new_v\n",
    "        new_v = max(action_values.values()) if action_values else 0\n",
    "        V[s] = new_v\n",
    "        biggest_change = max(biggest_change, abs(old_v - new_v))\n",
    "    if biggest_change < SMALL_ENOUGH:\n",
    "        break\n",
    "    policy = policy_improvment(grid, V)"
   ]
  },
  {
   "cell_type": "markdown",
   "metadata": {},
   "source": [
    "## Step 4: Show Result"
   ]
  },
  {
   "cell_type": "code",
   "execution_count": 5,
   "metadata": {
    "scrolled": true
   },
   "outputs": [
    {
     "name": "stdout",
     "output_type": "stream",
     "text": [
      "=================================================================\n",
      "|   0.81 (R)    |   0.90 (R)    |   1.00 (R)    |   1.00 (T)    |\n",
      "-----------------------------------------------------------------\n",
      "|   0.73 (U)    |      (X)      |   0.90 (U)    |   -1.00 (T)   |\n",
      "-----------------------------------------------------------------\n",
      "|   0.66 (U)    |   0.73 (R)    |   0.81 (U)    |   0.73 (L)    |\n",
      "=================================================================\n"
     ]
    }
   ],
   "source": [
    "print_results(V, policy, grid)"
   ]
  }
 ],
 "metadata": {
  "kernelspec": {
   "display_name": "Python 3",
   "language": "python",
   "name": "python3"
  },
  "language_info": {
   "codemirror_mode": {
    "name": "ipython",
    "version": 3
   },
   "file_extension": ".py",
   "mimetype": "text/x-python",
   "name": "python",
   "nbconvert_exporter": "python",
   "pygments_lexer": "ipython3",
   "version": "3.7.3"
  }
 },
 "nbformat": 4,
 "nbformat_minor": 2
}
